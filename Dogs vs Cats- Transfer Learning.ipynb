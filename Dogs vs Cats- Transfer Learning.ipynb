{
 "cells": [
  {
   "cell_type": "markdown",
   "metadata": {},
   "source": [
    "## Cat vs Dog detector \n",
    "#### -Transfer Learning \n",
    "-This file will use Transfer Learning (InceptionV3) to train the detection between cat and Dogs pictures."
   ]
  },
  {
   "cell_type": "code",
   "execution_count": 1,
   "metadata": {},
   "outputs": [],
   "source": [
    "#import \n",
    "import os\n",
    "import tensorflow as tf\n",
    "from tensorflow.keras import Model\n",
    "from tensorflow.keras import layers"
   ]
  },
  {
   "cell_type": "code",
   "execution_count": 2,
   "metadata": {},
   "outputs": [],
   "source": [
    "# import model and load_weights\n",
    "from tensorflow.keras.applications.inception_v3 import InceptionV3\n",
    "\n",
    "link= \"inception_v3_weights_tf_dim_ordering_tf_kernels_notop.h5\"\n",
    "\n",
    "pre_trained_model= InceptionV3(\n",
    "    input_shape=(150,150,3),\n",
    "    include_top= False,\n",
    "    weights= None)\n",
    "\n",
    "pre_trained_model.load_weights(link)\n",
    "\n",
    "last_layer= pre_trained_model.get_layer(\"mixed7\")\n",
    "last_output=last_layer.output\n"
   ]
  },
  {
   "cell_type": "code",
   "execution_count": 3,
   "metadata": {},
   "outputs": [
    {
     "name": "stdout",
     "output_type": "stream",
     "text": [
      "(None, 7, 7, 768)\n"
     ]
    }
   ],
   "source": [
    "print(last_output.shape)"
   ]
  },
  {
   "cell_type": "code",
   "execution_count": 4,
   "metadata": {},
   "outputs": [],
   "source": [
    "# model\n",
    "from tensorflow.keras.optimizers import RMSprop\n",
    "\n",
    "x= tf.keras.layers.Flatten()(last_output)\n",
    "x= tf.keras.layers.Dense(1024,activation=\"relu\")(x)\n",
    "x= tf.keras.layers.Dropout(0.2)(x)\n",
    "x= tf.keras.layers.Dense(1,activation=\"sigmoid\")(x)\n",
    "\n",
    "model= Model(pre_trained_model.input,x)\n",
    "model.compile(loss=\"binary_crossentropy\",\n",
    "             optimizer=RMSprop(lr=0.0001),\n",
    "             metrics=[\"acc\"])"
   ]
  },
  {
   "cell_type": "code",
   "execution_count": 5,
   "metadata": {},
   "outputs": [],
   "source": [
    "import zipfile\n",
    "link_zip=\"cats_and_dogs_filtered.zip\"\n",
    "fits= zipfile.ZipFile(link_zip,\"r\")\n",
    "fits.extractall(\"cats_and_dogs_filtered\")\n",
    "fits.close()"
   ]
  },
  {
   "cell_type": "code",
   "execution_count": 6,
   "metadata": {},
   "outputs": [],
   "source": [
    "base=\"cats_and_dogs_filtered\"\n",
    "base_train=os.path.join(base,\"train\")\n",
    "base_validation= os.path.join(base,\"validation\")\n",
    "base_train_cats=os.path.join(base_train,\"cats\")\n",
    "base_train_dogs= os.path.join(base_train,\"dogs\")\n",
    "base_validation_cats=os.path.join(base_validation,\"cats\")\n",
    "base_validation_dogs= os.path.join(base_validation,\"dogs\")\n",
    "\n",
    "train_cat_fnames = os.listdir(base_train_dogs)"
   ]
  },
  {
   "cell_type": "code",
   "execution_count": 7,
   "metadata": {},
   "outputs": [
    {
     "name": "stdout",
     "output_type": "stream",
     "text": [
      "Found 2000 images belonging to 2 classes.\n",
      "Found 1000 images belonging to 2 classes.\n"
     ]
    }
   ],
   "source": [
    "from tensorflow.keras.preprocessing.image import ImageDataGenerator\n",
    "\n",
    "train_jr= ImageDataGenerator(rescale=1/255)\n",
    "\n",
    "train_dir= train_jr.flow_from_directory(\n",
    "    base_train,\n",
    "    target_size=(150,150),\n",
    "    batch_size=10,\n",
    "    class_mode=\"binary\")\n",
    "    \n",
    "valida_jr= ImageDataGenerator(rescale=1/255)\n",
    "\n",
    "valida_dir= valida_jr.flow_from_directory(\n",
    "    base_validation,\n",
    "    target_size=(150,150),\n",
    "    batch_size=10,\n",
    "    class_mode=\"binary\")   "
   ]
  },
  {
   "cell_type": "code",
   "execution_count": 8,
   "metadata": {},
   "outputs": [
    {
     "name": "stdout",
     "output_type": "stream",
     "text": [
      "WARNING:tensorflow:From <ipython-input-8-71e42b6f44b3>:7: Model.fit_generator (from tensorflow.python.keras.engine.training) is deprecated and will be removed in a future version.\n",
      "Instructions for updating:\n",
      "Please use Model.fit, which supports generators.\n",
      "Epoch 1/15\n",
      "8/8 - 26s - loss: 0.8652 - acc: 0.6250 - val_loss: 0.5210 - val_acc: 0.7625\n",
      "Epoch 2/15\n",
      "8/8 - 23s - loss: 0.7612 - acc: 0.6625 - val_loss: 0.8291 - val_acc: 0.7125\n",
      "Epoch 3/15\n",
      "8/8 - 25s - loss: 0.4004 - acc: 0.8250 - val_loss: 0.4258 - val_acc: 0.8625\n",
      "Epoch 4/15\n",
      "8/8 - 25s - loss: 0.2297 - acc: 0.9375 - val_loss: 0.4943 - val_acc: 0.8750\n",
      "Epoch 5/15\n",
      "8/8 - 29s - loss: 0.2936 - acc: 0.9000 - val_loss: 0.1873 - val_acc: 0.9500\n",
      "Epoch 6/15\n",
      "8/8 - 25s - loss: 0.3220 - acc: 0.8375 - val_loss: 0.3704 - val_acc: 0.9000\n",
      "Epoch 7/15\n",
      "8/8 - 26s - loss: 0.2933 - acc: 0.8500 - val_loss: 0.2611 - val_acc: 0.9250\n",
      "Epoch 8/15\n",
      "8/8 - 25s - loss: 0.2353 - acc: 0.8875 - val_loss: 0.1689 - val_acc: 0.9250\n",
      "Epoch 9/15\n",
      "8/8 - 26s - loss: 0.1519 - acc: 0.9125 - val_loss: 0.2692 - val_acc: 0.9625\n",
      "Epoch 10/15\n",
      "8/8 - 27s - loss: 0.1149 - acc: 0.9500 - val_loss: 0.0766 - val_acc: 0.9375\n",
      "Epoch 11/15\n",
      "8/8 - 27s - loss: 0.6852 - acc: 0.8000 - val_loss: 0.9565 - val_acc: 0.8000\n",
      "Epoch 12/15\n",
      "8/8 - 25s - loss: 0.4853 - acc: 0.8000 - val_loss: 0.0881 - val_acc: 0.9500\n",
      "Epoch 13/15\n",
      "8/8 - 25s - loss: 0.2067 - acc: 0.9250 - val_loss: 0.0545 - val_acc: 0.9750\n",
      "Epoch 14/15\n",
      "8/8 - 26s - loss: 0.2775 - acc: 0.9125 - val_loss: 0.2129 - val_acc: 0.9500\n",
      "Epoch 15/15\n",
      "8/8 - 25s - loss: 0.3704 - acc: 0.8375 - val_loss: 0.2084 - val_acc: 0.9250\n"
     ]
    }
   ],
   "source": [
    "history= model.fit_generator(\n",
    "    train_dir,\n",
    "    steps_per_epoch=8,\n",
    "    epochs=15,\n",
    "    validation_data=valida_dir,\n",
    "    validation_steps=8,\n",
    "    verbose=2)"
   ]
  },
  {
   "cell_type": "code",
   "execution_count": 9,
   "metadata": {},
   "outputs": [
    {
     "data": {
      "image/png": "[encoded data removed]",
      "text/plain": [
       "<Figure size 432x288 with 1 Axes>"
      ]
     },
     "metadata": {
      "needs_background": "light"
     },
     "output_type": "display_data"
    },
    {
     "data": {
      "text/plain": [
       "<Figure size 432x288 with 0 Axes>"
      ]
     },
     "metadata": {},
     "output_type": "display_data"
    }
   ],
   "source": [
    "import matplotlib.pyplot as plt\n",
    "acc = history.history['acc']\n",
    "val_acc = history.history['val_acc']\n",
    "loss = history.history['loss']\n",
    "val_loss = history.history['val_loss']\n",
    "\n",
    "epochs = range(len(acc))\n",
    "plt.plot(epochs, acc, 'r', label='Training accuracy')\n",
    "plt.plot(epochs, val_acc, 'b', label='Validation accuracy')\n",
    "plt.title('Training and validation accuracy')\n",
    "plt.legend(loc=0)\n",
    "plt.figure()\n",
    "\n",
    "plt.show()"
   ]
  },
  {
   "cell_type": "code",
   "execution_count": null,
   "metadata": {},
   "outputs": [],
   "source": []
  }
 ],
 "metadata": {
  "kernelspec": {
   "display_name": "Python 3",
   "language": "python",
   "name": "python3"
  },
  "language_info": {
   "codemirror_mode": {
    "name": "ipython",
    "version": 3
   },
   "file_extension": ".py",
   "mimetype": "text/x-python",
   "name": "python",
   "nbconvert_exporter": "python",
   "pygments_lexer": "ipython3",
   "version": "3.7.9"
  }
 },
 "nbformat": 4,
 "nbformat_minor": 4
}
